{
 "cells": [
  {
   "cell_type": "markdown",
   "metadata": {},
   "source": [
    "## Populate an RDF database\n",
    "\n",
    "This notebook reports the main steps to download CSV files, process them and create an RDF dataset from them accordingly to an ontology. \n",
    "\n",
    "To measure execution time in Jupyter notebooks: <code>pip install ipython-autotime</code>"
   ]
  },
  {
   "cell_type": "code",
   "execution_count": 25,
   "metadata": {},
   "outputs": [],
   "source": [
    "# required libraries\n",
    "import pandas as pd\n",
    "import os\n",
    "import ast\n",
    "import unicodedata\n",
    "import re\n",
    "from pathlib import Path"
   ]
  },
  {
   "cell_type": "code",
   "execution_count": null,
   "metadata": {},
   "outputs": [],
   "source": [
    "# parameters and URLs\n",
    "path = str(Path(os.path.abspath(os.getcwd())).parent.parent.absolute())\n",
    "print(path)\n",
    "grammyCategoriesUrl = path + '/csv/GrammyCategoriesUppercase.csv'\n",
    "\n",
    "\n",
    "# saving folder\n",
    "savePath = path + '\\\\PopulateRDFdb\\\\PopulateGrammyCategories\\\\'"
   ]
  },
  {
   "cell_type": "markdown",
   "metadata": {},
   "source": [
    "## Grammy"
   ]
  },
  {
   "cell_type": "code",
   "execution_count": null,
   "metadata": {},
   "outputs": [],
   "source": [
    "# Load the CSV files in memory\n",
    "categories = pd.read_csv(grammyCategoriesUrl, sep=',')\n",
    "\n",
    "print(categories)\n",
    "\n",
    "# Converte la colonna 'Sub Genres' da stringa a una lista Python\n",
    "categories['Sub Genres'] = categories['Sub Genres'].apply(ast.literal_eval)\n",
    "\n",
    "print(categories.head())\n",
    "\n",
    "# Verifica i tipi di dati del DataFrame\n",
    "print(categories.dtypes)"
   ]
  },
  {
   "cell_type": "code",
   "execution_count": null,
   "metadata": {},
   "outputs": [],
   "source": [
    "def normalize_uri(name):\n",
    "    name = unicodedata.normalize('NFKD', name).encode('ASCII', 'ignore').decode('ASCII')\n",
    "    name = name.replace(\" \", \"-\")\n",
    "    name = name.replace(\",\", \"\").replace(\"'\", \"\")\n",
    "    name = re.sub(r'&(\\w)', lambda match: \"&\" + match.group(1).upper(), name)\n",
    "    name = name.replace(\"&\", \"n\")\n",
    "    name = re.sub(r'/(\\w)', lambda match: \"/\" + match.group(1).upper(), name)\n",
    "    name = name.replace(\"/\", \"\")\n",
    "\n",
    "    return name"
   ]
  },
  {
   "cell_type": "markdown",
   "metadata": {},
   "source": [
    "We need to install <code>RDFLib</code>\n",
    "\n",
    "<code>pip3 install rdflib </code> [Documentation](https://rdflib.readthedocs.io/en/stable/gettingstarted.html)"
   ]
  },
  {
   "cell_type": "code",
   "execution_count": 29,
   "metadata": {},
   "outputs": [],
   "source": [
    "# Load the required libraries\n",
    "from rdflib import Graph, Literal, RDF, URIRef, Namespace\n",
    "# rdflib knows about some namespaces, like FOAF\n",
    "from rdflib.namespace import FOAF, XSD, SKOS, RDFS\n",
    "\n"
   ]
  },
  {
   "cell_type": "code",
   "execution_count": 30,
   "metadata": {},
   "outputs": [],
   "source": [
    "# Construct the country and the movie ontology namespaces not known by RDFlib\n",
    "ME = Namespace(\"http://www.dei.unipd.it/~gdb/ontology/melody#\")\n",
    "\n",
    "#create the graph\n",
    "g = Graph()\n",
    "\n",
    "# Bind the namespaces to a prefix for more readable output\n",
    "g.bind(\"xsd\", XSD)\n",
    "g.bind(\"mel\", ME)\n",
    "g.bind(\"skos\", SKOS)\n",
    "g.bind(\"rdfs\", RDFS)\n"
   ]
  },
  {
   "cell_type": "code",
   "execution_count": null,
   "metadata": {},
   "outputs": [],
   "source": [
    "SCHEME_URI = URIRef(ME.GrammyCategorySchema)\n",
    "# GrammyCategorySchema type ConceptScheme\n",
    "g.add((SCHEME_URI, RDF.type, SKOS.ConceptScheme))\n",
    "g.add((SCHEME_URI, RDFS.label,Literal(\"Grammy Category Schema\", lang=\"en\")))\n",
    "\n",
    "\n",
    "for _, row in categories.iterrows():\n",
    "    macro_genre = row['Macro Genre']\n",
    "    sub_genres = row['Sub Genres']\n",
    "\n",
    "    # URI macrogenre\n",
    "    macro_genre_uri = URIRef(ME + normalize_uri(macro_genre))\n",
    "    #print(macro_genre)\n",
    "    print(f\"Macro Genre URI: {macro_genre_uri}\")\n",
    "    \n",
    "    # Add the macrogenre as SKOS Concept\n",
    "    g.add((macro_genre_uri, RDF.type, SKOS.Concept))\n",
    "    g.add((macro_genre_uri, RDF.type, ME.GrammyCategory))\n",
    "    g.add((macro_genre_uri, RDFS.label, Literal(normalize_uri(macro_genre), lang=\"en\")))\n",
    "    g.add((macro_genre_uri, SKOS.inScheme, SCHEME_URI))\n",
    "    \n",
    "\n",
    "    # add each subgenre come SKOS Concept e GrammyCategory\n",
    "    for sub_genre in sub_genres:\n",
    "        sub_genre_uri = URIRef(ME + normalize_uri(sub_genre))\n",
    "        print(f\"Sub-Genre URI: {sub_genre_uri}\")\n",
    "        g.add((sub_genre_uri, RDF.type, SKOS.Concept))\n",
    "        g.add((sub_genre_uri, RDF.type, URIRef(ME.GrammyCategory)))\n",
    "        g.add((sub_genre_uri, RDFS.label, Literal(normalize_uri(sub_genre), lang=\"en\")))\n",
    "        g.add((sub_genre_uri, SKOS.broader, macro_genre_uri))"
   ]
  },
  {
   "cell_type": "code",
   "execution_count": null,
   "metadata": {},
   "outputs": [],
   "source": [
    "g.serialize(destination= savePath + \"GrammyCategoriesUppercase.ttl\", format=\"turtle\")\n",
    "print(\"Creato file Turtle globale: GrammyCategoriesUppercase.ttl\")"
   ]
  }
 ],
 "metadata": {
  "kernelspec": {
   "display_name": "Python 3",
   "language": "python",
   "name": "python3"
  },
  "language_info": {
   "codemirror_mode": {
    "name": "ipython",
    "version": 3
   },
   "file_extension": ".py",
   "mimetype": "text/x-python",
   "name": "python",
   "nbconvert_exporter": "python",
   "pygments_lexer": "ipython3",
   "version": "3.12.0"
  }
 },
 "nbformat": 4,
 "nbformat_minor": 4
}
