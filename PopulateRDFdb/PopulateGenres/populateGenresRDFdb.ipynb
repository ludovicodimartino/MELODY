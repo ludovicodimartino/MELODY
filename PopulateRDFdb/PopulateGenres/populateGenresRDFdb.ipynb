{
 "cells": [
  {
   "cell_type": "markdown",
   "metadata": {},
   "source": [
    "## Populate an RDF database\n",
    "\n",
    "This notebook reports the main steps to download CSV files, process them and create an RDF dataset from them accordingly to an ontology. \n",
    "\n",
    "To measure execution time in Jupyter notebooks: <code>pip install ipython-autotime</code>"
   ]
  },
  {
   "cell_type": "code",
   "execution_count": 10,
   "metadata": {},
   "outputs": [],
   "source": [
    "# required libraries\n",
    "import pandas as pd\n",
    "import os\n",
    "from pathlib import Path\n",
    "from rdflib import Graph, Literal, RDF, URIRef, Namespace, RDFS\n",
    "from rdflib.namespace import XSD, SKOS\n",
    "# libraries for matching strings \n",
    "from fuzzywuzzy import fuzz, process"
   ]
  },
  {
   "cell_type": "code",
   "execution_count": 11,
   "metadata": {},
   "outputs": [
    {
     "name": "stdout",
     "output_type": "stream",
     "text": [
      "http://www.dei.unipd.it/~gdb/ontology/melody#\n",
      "c:\\Users\\Manuel\\Documents\\università\\magistrale\\primo-semestre\\graph-databases\\MELODY\n"
     ]
    }
   ],
   "source": [
    "# melody ontology namespace\n",
    "MEL = Namespace(\"http://www.dei.unipd.it/~gdb/ontology/melody#\")\n",
    "print(MEL)\n",
    "\n",
    "# parameters and URLs\n",
    "path = str(Path(os.path.abspath(os.getcwd())).parent.parent.absolute())\n",
    "print(path)\n",
    "\n",
    "# saving folder\n",
    "savePath =  path + '/PopulateRDFdb/PopulateGenres/'"
   ]
  },
  {
   "cell_type": "markdown",
   "metadata": {},
   "source": [
    "## Genres"
   ]
  },
  {
   "cell_type": "code",
   "execution_count": 12,
   "metadata": {},
   "outputs": [
    {
     "name": "stdout",
     "output_type": "stream",
     "text": [
      "<class 'pandas.core.frame.DataFrame'>\n",
      "Index: 32 entries, Ambient to Unclassified\n",
      "Data columns (total 1 columns):\n",
      " #   Column      Non-Null Count  Dtype \n",
      "---  ------      --------------  ----- \n",
      " 0   Sub Genres  32 non-null     object\n",
      "dtypes: object(1)\n",
      "memory usage: 512.0+ bytes\n",
      "None\n"
     ]
    }
   ],
   "source": [
    "# Load the CSV files in memory\n",
    "genresURL = path + '/csv/classified_genres.csv'\n",
    "genres = pd.read_csv(genresURL, sep=',', index_col='Macro Genre')\n",
    "print(genres.info())"
   ]
  },
  {
   "cell_type": "code",
   "execution_count": 13,
   "metadata": {},
   "outputs": [],
   "source": [
    "#create the graph\n",
    "g = Graph()\n",
    "\n",
    "# Bind the namespaces to a prefix for more readable output\n",
    "g.bind(\"mel\", MEL)\n",
    "g.bind(\"xsd\", XSD)\n",
    "g.bind(\"skos\", SKOS)\n",
    "g.bind(\"rdfs\", RDFS)"
   ]
  },
  {
   "cell_type": "code",
   "execution_count": 14,
   "metadata": {},
   "outputs": [
    {
     "name": "stdout",
     "output_type": "stream",
     "text": [
      "CPU times: total: 15.6 ms\n",
      "Wall time: 37.8 ms\n"
     ]
    }
   ],
   "source": [
    "%%time \n",
    "#measure execution time\n",
    "\n",
    "Genre = URIRef(MEL['Genre'])\n",
    "GenreSchema = URIRef(MEL['GenreSchema'])\n",
    "g.add((GenreSchema, RDF.type, SKOS.ConceptScheme))\n",
    "\n",
    "#iterate over the grammy dataframe\n",
    "for index, row in genres.iterrows():\n",
    "  # Create macro genre SKOS Concept Scheme\n",
    "  index = index.strip().title()\n",
    "  # index = index.replace(' ', '-')\n",
    "  MainGenre = URIRef(MEL[index.replace(' ', '')])\n",
    "  g.add((MainGenre, RDF.type, SKOS.Concept))\n",
    "  g.add((MainGenre, SKOS.inScheme, GenreSchema))\n",
    "  g.add((MainGenre, RDF.type, Genre))\n",
    "  g.add((MainGenre, RDFS.label, Literal(index, lang='en')))\n",
    "  for subGenre in row['Sub Genres'].split(', '):\n",
    "    subGenre = subGenre.strip().title()\n",
    "    # print('sub genre before replace is ', subGenre)\n",
    "    # print('sub genre after replace is ', subGenre.replace(' ', ''))\n",
    "    SubGenre = URIRef(MEL[subGenre.replace(' ', '')])\n",
    "    # Define sub genre as SKOS concept...\n",
    "    g.add((SubGenre, RDF.type, SKOS.Concept))\n",
    "    # ...and add it to its SKOS Concept scheme\n",
    "    g.add((SubGenre, SKOS.broader, MainGenre))\n",
    "    g.add((SubGenre, RDF.type, Genre))\n",
    "    g.add((SubGenre, RDFS.label, Literal(subGenre, lang='en')))"
   ]
  },
  {
   "cell_type": "code",
   "execution_count": 15,
   "metadata": {},
   "outputs": [
    {
     "name": "stdout",
     "output_type": "stream",
     "text": [
      "--- saving serialization ---\n",
      "CPU times: total: 78.1 ms\n",
      "Wall time: 88.7 ms\n"
     ]
    }
   ],
   "source": [
    "%%time\n",
    "# print all the data in the Turtle format\n",
    "print(\"--- saving serialization ---\")\n",
    "with open(savePath + 'genres.ttl', 'w', encoding='utf-8') as file:\n",
    "  file.write(g.serialize(format='turtle'))\n"
   ]
  },
  {
   "cell_type": "code",
   "execution_count": null,
   "metadata": {},
   "outputs": [],
   "source": []
  }
 ],
 "metadata": {
  "kernelspec": {
   "display_name": "Python 3",
   "language": "python",
   "name": "python3"
  },
  "language_info": {
   "codemirror_mode": {
    "name": "ipython",
    "version": 3
   },
   "file_extension": ".py",
   "mimetype": "text/x-python",
   "name": "python",
   "nbconvert_exporter": "python",
   "pygments_lexer": "ipython3",
   "version": "3.12.7"
  }
 },
 "nbformat": 4,
 "nbformat_minor": 4
}
